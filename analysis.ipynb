{
 "cells": [
  {
   "cell_type": "markdown",
   "metadata": {},
   "source": [
    "# pandas exploration\n",
    "In this assignment you will select a data set and do some munging and analysis of it using `pandas`, Jupyter Notebooks, and associated Python-centric data science tools."
   ]
  },
  {
   "cell_type": "markdown",
   "metadata": {},
   "source": [
    "## Set up environment"
   ]
  },
  {
   "cell_type": "markdown",
   "metadata": {},
   "source": [
    "The following lines ensure that `numpy` and `pandas` are installed in the notebook environment.  Depending on your system, this may not be necessary and may be removed."
   ]
  },
  {
   "cell_type": "code",
   "execution_count": 1,
   "metadata": {},
   "outputs": [
    {
     "name": "stdout",
     "output_type": "stream",
     "text": [
      "Requirement already satisfied: numpy in /Users/willwu/anaconda3/lib/python3.10/site-packages (1.23.5)\n",
      "Requirement already satisfied: pandas in /Users/willwu/anaconda3/lib/python3.10/site-packages (1.5.3)\n",
      "Requirement already satisfied: python-dateutil>=2.8.1 in /Users/willwu/anaconda3/lib/python3.10/site-packages (from pandas) (2.8.2)\n",
      "Requirement already satisfied: pytz>=2020.1 in /Users/willwu/anaconda3/lib/python3.10/site-packages (from pandas) (2022.7)\n",
      "Requirement already satisfied: numpy>=1.21.0 in /Users/willwu/anaconda3/lib/python3.10/site-packages (from pandas) (1.23.5)\n",
      "Requirement already satisfied: six>=1.5 in /Users/willwu/anaconda3/lib/python3.10/site-packages (from python-dateutil>=2.8.1->pandas) (1.16.0)\n"
     ]
    }
   ],
   "source": [
    "!pip install numpy\n",
    "!pip install pandas"
   ]
  },
  {
   "cell_type": "markdown",
   "metadata": {},
   "source": [
    "Import the core data science libraries:"
   ]
  },
  {
   "cell_type": "code",
   "execution_count": 2,
   "metadata": {},
   "outputs": [],
   "source": [
    "%matplotlib inline\n",
    "import matplotlib.pyplot as plt\n",
    "import numpy as np\n",
    "import pandas as pd"
   ]
  },
  {
   "cell_type": "markdown",
   "metadata": {},
   "source": [
    "## Import the raw data\n",
    "In this section, you will import the raw data into a `pandas` DataFrame."
   ]
  },
  {
   "cell_type": "code",
   "execution_count": 3,
   "metadata": {},
   "outputs": [],
   "source": [
    "df = pd.read_csv('/Users/willwu/Desktop/NYU/CSCI-UA60/8-pandas-exploration-WillYuweiWu/data/san_diego_stopping.csv')"
   ]
  },
  {
   "cell_type": "markdown",
   "metadata": {},
   "source": [
    "## Data inspection\n",
    "In this section, you will show enough of your data for a viewer to get a general sense of how the data is structured and any unique features of it.  Complete each of the indicated tasks in a Code cell, making sure to include a Markdown cell above each Code cell that explains what is being shown by the code.  \n",
    "- Show 5 rows, selected at random, from the data set.\n",
    "- Show each of the column names and their data types.\n",
    "- Show any unique features of your chosen data set.\n",
    "\n",
    "Feel free to add as many additional cells as you need to help explain the raw data."
   ]
  },
  {
   "cell_type": "markdown",
   "metadata": {},
   "source": [
    "Show 5 rows, selected at random, from the data set. "
   ]
  },
  {
   "cell_type": "code",
   "execution_count": 4,
   "metadata": {},
   "outputs": [
    {
     "data": {
      "text/html": [
       "<div>\n",
       "<style scoped>\n",
       "    .dataframe tbody tr th:only-of-type {\n",
       "        vertical-align: middle;\n",
       "    }\n",
       "\n",
       "    .dataframe tbody tr th {\n",
       "        vertical-align: top;\n",
       "    }\n",
       "\n",
       "    .dataframe thead th {\n",
       "        text-align: right;\n",
       "    }\n",
       "</style>\n",
       "<table border=\"1\" class=\"dataframe\">\n",
       "  <thead>\n",
       "    <tr style=\"text-align: right;\">\n",
       "      <th></th>\n",
       "      <th>raw_row_number</th>\n",
       "      <th>date</th>\n",
       "      <th>time</th>\n",
       "      <th>service_area</th>\n",
       "      <th>subject_age</th>\n",
       "      <th>subject_race</th>\n",
       "      <th>subject_sex</th>\n",
       "      <th>type</th>\n",
       "      <th>arrest_made</th>\n",
       "      <th>citation_issued</th>\n",
       "      <th>...</th>\n",
       "      <th>outcome</th>\n",
       "      <th>contraband_found</th>\n",
       "      <th>search_conducted</th>\n",
       "      <th>search_person</th>\n",
       "      <th>search_vehicle</th>\n",
       "      <th>search_basis</th>\n",
       "      <th>reason_for_search</th>\n",
       "      <th>reason_for_stop</th>\n",
       "      <th>raw_action_taken</th>\n",
       "      <th>raw_subject_race_description</th>\n",
       "    </tr>\n",
       "  </thead>\n",
       "  <tbody>\n",
       "    <tr>\n",
       "      <th>5871</th>\n",
       "      <td>6145</td>\n",
       "      <td>2014-01-21</td>\n",
       "      <td>12:30:00</td>\n",
       "      <td>310</td>\n",
       "      <td>26.0</td>\n",
       "      <td>black</td>\n",
       "      <td>male</td>\n",
       "      <td>vehicular</td>\n",
       "      <td>True</td>\n",
       "      <td>False</td>\n",
       "      <td>...</td>\n",
       "      <td>arrest</td>\n",
       "      <td>False</td>\n",
       "      <td>True</td>\n",
       "      <td>True</td>\n",
       "      <td>False</td>\n",
       "      <td>other</td>\n",
       "      <td>Search Incident To Arrest</td>\n",
       "      <td>Moving Violation</td>\n",
       "      <td>Other</td>\n",
       "      <td>BLACK</td>\n",
       "    </tr>\n",
       "    <tr>\n",
       "      <th>218308</th>\n",
       "      <td>225771</td>\n",
       "      <td>2015-09-05</td>\n",
       "      <td>14:25:00</td>\n",
       "      <td>440</td>\n",
       "      <td>29.0</td>\n",
       "      <td>hispanic</td>\n",
       "      <td>male</td>\n",
       "      <td>vehicular</td>\n",
       "      <td>False</td>\n",
       "      <td>False</td>\n",
       "      <td>...</td>\n",
       "      <td>warning</td>\n",
       "      <td>NaN</td>\n",
       "      <td>False</td>\n",
       "      <td>False</td>\n",
       "      <td>False</td>\n",
       "      <td>NaN</td>\n",
       "      <td>NaN</td>\n",
       "      <td>Equipment Violation</td>\n",
       "      <td>Verbal Warning</td>\n",
       "      <td>HISPANIC</td>\n",
       "    </tr>\n",
       "    <tr>\n",
       "      <th>158057</th>\n",
       "      <td>164174</td>\n",
       "      <td>2015-03-02</td>\n",
       "      <td>20:45:00</td>\n",
       "      <td>520</td>\n",
       "      <td>30.0</td>\n",
       "      <td>hispanic</td>\n",
       "      <td>female</td>\n",
       "      <td>vehicular</td>\n",
       "      <td>False</td>\n",
       "      <td>False</td>\n",
       "      <td>...</td>\n",
       "      <td>warning</td>\n",
       "      <td>NaN</td>\n",
       "      <td>False</td>\n",
       "      <td>False</td>\n",
       "      <td>False</td>\n",
       "      <td>NaN</td>\n",
       "      <td>NaN</td>\n",
       "      <td>Moving Violation</td>\n",
       "      <td>Verbal Warning</td>\n",
       "      <td>HISPANIC</td>\n",
       "    </tr>\n",
       "    <tr>\n",
       "      <th>157641</th>\n",
       "      <td>163742</td>\n",
       "      <td>2015-02-28</td>\n",
       "      <td>14:46:00</td>\n",
       "      <td>110</td>\n",
       "      <td>23.0</td>\n",
       "      <td>white</td>\n",
       "      <td>male</td>\n",
       "      <td>vehicular</td>\n",
       "      <td>False</td>\n",
       "      <td>False</td>\n",
       "      <td>...</td>\n",
       "      <td>warning</td>\n",
       "      <td>NaN</td>\n",
       "      <td>False</td>\n",
       "      <td>False</td>\n",
       "      <td>False</td>\n",
       "      <td>NaN</td>\n",
       "      <td>NaN</td>\n",
       "      <td>Moving Violation</td>\n",
       "      <td>Verbal Warning</td>\n",
       "      <td>WHITE</td>\n",
       "    </tr>\n",
       "    <tr>\n",
       "      <th>306528</th>\n",
       "      <td>314639</td>\n",
       "      <td>2016-06-30</td>\n",
       "      <td>07:15:00</td>\n",
       "      <td>810</td>\n",
       "      <td>43.0</td>\n",
       "      <td>other</td>\n",
       "      <td>male</td>\n",
       "      <td>vehicular</td>\n",
       "      <td>False</td>\n",
       "      <td>True</td>\n",
       "      <td>...</td>\n",
       "      <td>citation</td>\n",
       "      <td>NaN</td>\n",
       "      <td>False</td>\n",
       "      <td>False</td>\n",
       "      <td>False</td>\n",
       "      <td>NaN</td>\n",
       "      <td>NaN</td>\n",
       "      <td>Moving Violation</td>\n",
       "      <td>Citation</td>\n",
       "      <td>OTHER</td>\n",
       "    </tr>\n",
       "  </tbody>\n",
       "</table>\n",
       "<p>5 rows × 21 columns</p>\n",
       "</div>"
      ],
      "text/plain": [
       "       raw_row_number        date      time service_area  subject_age  \\\n",
       "5871             6145  2014-01-21  12:30:00          310         26.0   \n",
       "218308         225771  2015-09-05  14:25:00          440         29.0   \n",
       "158057         164174  2015-03-02  20:45:00          520         30.0   \n",
       "157641         163742  2015-02-28  14:46:00          110         23.0   \n",
       "306528         314639  2016-06-30  07:15:00          810         43.0   \n",
       "\n",
       "       subject_race subject_sex       type arrest_made citation_issued  ...  \\\n",
       "5871          black        male  vehicular        True           False  ...   \n",
       "218308     hispanic        male  vehicular       False           False  ...   \n",
       "158057     hispanic      female  vehicular       False           False  ...   \n",
       "157641        white        male  vehicular       False           False  ...   \n",
       "306528        other        male  vehicular       False            True  ...   \n",
       "\n",
       "         outcome contraband_found search_conducted  search_person  \\\n",
       "5871      arrest            False             True           True   \n",
       "218308   warning              NaN            False          False   \n",
       "158057   warning              NaN            False          False   \n",
       "157641   warning              NaN            False          False   \n",
       "306528  citation              NaN            False          False   \n",
       "\n",
       "       search_vehicle search_basis          reason_for_search  \\\n",
       "5871            False        other  Search Incident To Arrest   \n",
       "218308          False          NaN                        NaN   \n",
       "158057          False          NaN                        NaN   \n",
       "157641          False          NaN                        NaN   \n",
       "306528          False          NaN                        NaN   \n",
       "\n",
       "            reason_for_stop raw_action_taken raw_subject_race_description  \n",
       "5871       Moving Violation            Other                        BLACK  \n",
       "218308  Equipment Violation   Verbal Warning                     HISPANIC  \n",
       "158057     Moving Violation   Verbal Warning                     HISPANIC  \n",
       "157641     Moving Violation   Verbal Warning                        WHITE  \n",
       "306528     Moving Violation         Citation                        OTHER  \n",
       "\n",
       "[5 rows x 21 columns]"
      ]
     },
     "execution_count": 4,
     "metadata": {},
     "output_type": "execute_result"
    }
   ],
   "source": [
    "df.sample(5)"
   ]
  },
  {
   "cell_type": "markdown",
   "metadata": {},
   "source": [
    "Show each of the column names and their data types. "
   ]
  },
  {
   "cell_type": "code",
   "execution_count": 5,
   "metadata": {},
   "outputs": [
    {
     "data": {
      "text/plain": [
       "raw_row_number                   object\n",
       "date                             object\n",
       "time                             object\n",
       "service_area                     object\n",
       "subject_age                     float64\n",
       "subject_race                     object\n",
       "subject_sex                      object\n",
       "type                             object\n",
       "arrest_made                      object\n",
       "citation_issued                  object\n",
       "warning_issued                   object\n",
       "outcome                          object\n",
       "contraband_found                 object\n",
       "search_conducted                   bool\n",
       "search_person                    object\n",
       "search_vehicle                   object\n",
       "search_basis                     object\n",
       "reason_for_search                object\n",
       "reason_for_stop                  object\n",
       "raw_action_taken                 object\n",
       "raw_subject_race_description     object\n",
       "dtype: object"
      ]
     },
     "execution_count": 5,
     "metadata": {},
     "output_type": "execute_result"
    }
   ],
   "source": [
    "df.dtypes"
   ]
  },
  {
   "cell_type": "markdown",
   "metadata": {},
   "source": [
    "Show all different outcomes of a police stopping. "
   ]
  },
  {
   "cell_type": "code",
   "execution_count": 6,
   "metadata": {},
   "outputs": [
    {
     "data": {
      "text/plain": [
       "array(['citation', 'warning', nan, 'arrest'], dtype=object)"
      ]
     },
     "execution_count": 6,
     "metadata": {},
     "output_type": "execute_result"
    }
   ],
   "source": [
    "df['outcome'].unique()"
   ]
  },
  {
   "cell_type": "markdown",
   "metadata": {},
   "source": [
    "The potential outcomes of a police stopping include no outcome, citation issued, warning issued, or being arrested. "
   ]
  },
  {
   "cell_type": "markdown",
   "metadata": {},
   "source": [
    "## Data munging\n",
    "Place your **data munging** code and documentation within this section.  \n",
    "- Keep each of your Code cells short and focused on a single task.  \n",
    "- Include a Markdown cell above each code cell that describes what task the code within the code cell is performing.\n",
    "- Make as many code cells as you need to complete the munging - a few have been created for you to start with.\n",
    "- Display 5 sample rows of the modified data after each transformation so a viewer can see how the data has changed.\n",
    "\n",
    "**Note**: If you believe that your data set does not require any munging, please explain in detail.  Create Markdown cells that explain your thinking and create Code cells that show any specific structures of the data you refer to in your explanation."
   ]
  },
  {
   "cell_type": "markdown",
   "metadata": {},
   "source": [
    "According to the **README** file from the original website, the researchers have already performed a round of data munging. Therefore, only some slight additional munging is needed, as described below. "
   ]
  },
  {
   "cell_type": "markdown",
   "metadata": {},
   "source": [
    "The **raw_row_number** column is irrelevant to this project, and the **raw_action_taken** and **raw_subject_race_description** columns are redundant, so I will delete all three columnns. "
   ]
  },
  {
   "cell_type": "code",
   "execution_count": 7,
   "metadata": {},
   "outputs": [
    {
     "data": {
      "text/html": [
       "<div>\n",
       "<style scoped>\n",
       "    .dataframe tbody tr th:only-of-type {\n",
       "        vertical-align: middle;\n",
       "    }\n",
       "\n",
       "    .dataframe tbody tr th {\n",
       "        vertical-align: top;\n",
       "    }\n",
       "\n",
       "    .dataframe thead th {\n",
       "        text-align: right;\n",
       "    }\n",
       "</style>\n",
       "<table border=\"1\" class=\"dataframe\">\n",
       "  <thead>\n",
       "    <tr style=\"text-align: right;\">\n",
       "      <th></th>\n",
       "      <th>date</th>\n",
       "      <th>time</th>\n",
       "      <th>service_area</th>\n",
       "      <th>subject_age</th>\n",
       "      <th>subject_race</th>\n",
       "      <th>subject_sex</th>\n",
       "      <th>type</th>\n",
       "      <th>arrest_made</th>\n",
       "      <th>citation_issued</th>\n",
       "      <th>warning_issued</th>\n",
       "      <th>outcome</th>\n",
       "      <th>contraband_found</th>\n",
       "      <th>search_conducted</th>\n",
       "      <th>search_person</th>\n",
       "      <th>search_vehicle</th>\n",
       "      <th>search_basis</th>\n",
       "      <th>reason_for_search</th>\n",
       "      <th>reason_for_stop</th>\n",
       "    </tr>\n",
       "  </thead>\n",
       "  <tbody>\n",
       "    <tr>\n",
       "      <th>129842</th>\n",
       "      <td>2014-11-28</td>\n",
       "      <td>23:37:00</td>\n",
       "      <td>930</td>\n",
       "      <td>34.0</td>\n",
       "      <td>white</td>\n",
       "      <td>male</td>\n",
       "      <td>vehicular</td>\n",
       "      <td>False</td>\n",
       "      <td>False</td>\n",
       "      <td>True</td>\n",
       "      <td>warning</td>\n",
       "      <td>NaN</td>\n",
       "      <td>False</td>\n",
       "      <td>False</td>\n",
       "      <td>False</td>\n",
       "      <td>NaN</td>\n",
       "      <td>NaN</td>\n",
       "      <td>Equipment Violation</td>\n",
       "    </tr>\n",
       "    <tr>\n",
       "      <th>32164</th>\n",
       "      <td>2014-03-13</td>\n",
       "      <td>10:31:00</td>\n",
       "      <td>610</td>\n",
       "      <td>25.0</td>\n",
       "      <td>black</td>\n",
       "      <td>male</td>\n",
       "      <td>vehicular</td>\n",
       "      <td>False</td>\n",
       "      <td>False</td>\n",
       "      <td>True</td>\n",
       "      <td>warning</td>\n",
       "      <td>NaN</td>\n",
       "      <td>False</td>\n",
       "      <td>False</td>\n",
       "      <td>False</td>\n",
       "      <td>NaN</td>\n",
       "      <td>NaN</td>\n",
       "      <td>Moving Violation</td>\n",
       "    </tr>\n",
       "    <tr>\n",
       "      <th>52898</th>\n",
       "      <td>2014-04-29</td>\n",
       "      <td>03:30:00</td>\n",
       "      <td>720</td>\n",
       "      <td>43.0</td>\n",
       "      <td>hispanic</td>\n",
       "      <td>male</td>\n",
       "      <td>vehicular</td>\n",
       "      <td>False</td>\n",
       "      <td>False</td>\n",
       "      <td>True</td>\n",
       "      <td>warning</td>\n",
       "      <td>NaN</td>\n",
       "      <td>False</td>\n",
       "      <td>False</td>\n",
       "      <td>False</td>\n",
       "      <td>NaN</td>\n",
       "      <td>NaN</td>\n",
       "      <td>Moving Violation</td>\n",
       "    </tr>\n",
       "    <tr>\n",
       "      <th>319985</th>\n",
       "      <td>2016-08-24</td>\n",
       "      <td>22:20:00</td>\n",
       "      <td>710</td>\n",
       "      <td>18.0</td>\n",
       "      <td>hispanic</td>\n",
       "      <td>male</td>\n",
       "      <td>vehicular</td>\n",
       "      <td>False</td>\n",
       "      <td>False</td>\n",
       "      <td>True</td>\n",
       "      <td>warning</td>\n",
       "      <td>NaN</td>\n",
       "      <td>False</td>\n",
       "      <td>False</td>\n",
       "      <td>False</td>\n",
       "      <td>NaN</td>\n",
       "      <td>NaN</td>\n",
       "      <td>Moving Violation</td>\n",
       "    </tr>\n",
       "    <tr>\n",
       "      <th>39846</th>\n",
       "      <td>2014-03-31</td>\n",
       "      <td>17:30:00</td>\n",
       "      <td>240</td>\n",
       "      <td>29.0</td>\n",
       "      <td>asian/pacific islander</td>\n",
       "      <td>male</td>\n",
       "      <td>vehicular</td>\n",
       "      <td>False</td>\n",
       "      <td>True</td>\n",
       "      <td>False</td>\n",
       "      <td>citation</td>\n",
       "      <td>NaN</td>\n",
       "      <td>False</td>\n",
       "      <td>False</td>\n",
       "      <td>False</td>\n",
       "      <td>NaN</td>\n",
       "      <td>NaN</td>\n",
       "      <td>Moving Violation</td>\n",
       "    </tr>\n",
       "  </tbody>\n",
       "</table>\n",
       "</div>"
      ],
      "text/plain": [
       "              date      time service_area  subject_age  \\\n",
       "129842  2014-11-28  23:37:00          930         34.0   \n",
       "32164   2014-03-13  10:31:00          610         25.0   \n",
       "52898   2014-04-29  03:30:00          720         43.0   \n",
       "319985  2016-08-24  22:20:00          710         18.0   \n",
       "39846   2014-03-31  17:30:00          240         29.0   \n",
       "\n",
       "                  subject_race subject_sex       type arrest_made  \\\n",
       "129842                   white        male  vehicular       False   \n",
       "32164                    black        male  vehicular       False   \n",
       "52898                 hispanic        male  vehicular       False   \n",
       "319985                hispanic        male  vehicular       False   \n",
       "39846   asian/pacific islander        male  vehicular       False   \n",
       "\n",
       "       citation_issued warning_issued   outcome contraband_found  \\\n",
       "129842           False           True   warning              NaN   \n",
       "32164            False           True   warning              NaN   \n",
       "52898            False           True   warning              NaN   \n",
       "319985           False           True   warning              NaN   \n",
       "39846             True          False  citation              NaN   \n",
       "\n",
       "        search_conducted search_person search_vehicle search_basis  \\\n",
       "129842             False         False          False          NaN   \n",
       "32164              False         False          False          NaN   \n",
       "52898              False         False          False          NaN   \n",
       "319985             False         False          False          NaN   \n",
       "39846              False         False          False          NaN   \n",
       "\n",
       "       reason_for_search      reason_for_stop  \n",
       "129842               NaN  Equipment Violation  \n",
       "32164                NaN     Moving Violation  \n",
       "52898                NaN     Moving Violation  \n",
       "319985               NaN     Moving Violation  \n",
       "39846                NaN     Moving Violation  "
      ]
     },
     "execution_count": 7,
     "metadata": {},
     "output_type": "execute_result"
    }
   ],
   "source": [
    "# Drop the selected columns. \n",
    "data = df.drop(columns = ['raw_row_number', 'raw_action_taken', 'raw_subject_race_description'])\n",
    "\n",
    "# Display 5 sample rows.\n",
    "data.sample(5)"
   ]
  },
  {
   "cell_type": "markdown",
   "metadata": {},
   "source": [
    "## Data analysis\n",
    "Place your **data analysis** code and documentation within this section.\n",
    "- Perform at least 5 different statistical or other analyses of different aspects of the data.\n",
    "    - Your analyses must be specific and relevant to your chosen data set and show interesting aspects of it.\n",
    "    - Include at least one analysis that includes grouping rows by a shared attribute and performing some kind of statistical analysis on each group.\n",
    "    - Sort the data in at least 1 of your analyses, but sort on its own does not constitute an analysis on its own.\n",
    "- Keep each of your Code cells short and focused on a single task.\n",
    "- Include a Markdown cell above each Code cell that describes what task the code within the Code cell is performing.\n",
    "- Make as many code cells as you need to complete the analysis - a few have been created for you to start with."
   ]
  },
  {
   "cell_type": "markdown",
   "metadata": {},
   "source": [
    "**1. Descriptive Statistics of Subject Age**\n",
    "\n",
    "This analysis will provide basic statistics for the subject ages, including mean and standard deviation. "
   ]
  },
  {
   "cell_type": "code",
   "execution_count": 8,
   "metadata": {},
   "outputs": [
    {
     "data": {
      "text/plain": [
       "count    371064.000000\n",
       "mean         37.095956\n",
       "std          14.183295\n",
       "min          10.000000\n",
       "25%          25.000000\n",
       "50%          34.000000\n",
       "75%          47.000000\n",
       "max         100.000000\n",
       "Name: subject_age, dtype: float64"
      ]
     },
     "execution_count": 8,
     "metadata": {},
     "output_type": "execute_result"
    }
   ],
   "source": [
    "data['subject_age'].describe()"
   ]
  },
  {
   "cell_type": "markdown",
   "metadata": {},
   "source": [
    "Note that according to the original description of the data set, values outside the range of 10-110 are coerced to N/A. Thus, the min and max are actually 10 and 100, which is quite suprising.  "
   ]
  },
  {
   "cell_type": "markdown",
   "metadata": {},
   "source": [
    "**2. Count of Stops by Race**\n",
    "\n",
    "This analysis will count the number of stops for each racial group. "
   ]
  },
  {
   "cell_type": "code",
   "execution_count": 9,
   "metadata": {},
   "outputs": [
    {
     "data": {
      "text/plain": [
       "white                     162226\n",
       "hispanic                  117083\n",
       "black                      42705\n",
       "asian/pacific islander     32541\n",
       "other                      27238\n",
       "Name: subject_race, dtype: int64"
      ]
     },
     "execution_count": 9,
     "metadata": {},
     "output_type": "execute_result"
    }
   ],
   "source": [
    "data['subject_race'].value_counts()"
   ]
  },
  {
   "cell_type": "markdown",
   "metadata": {},
   "source": [
    "**3. Proportion of Stops Resulting in Arrests by Race**\n",
    "\n",
    "This analysis will group the data by **subject_race** and calculate the proportion of stops that result in an arrest for each race."
   ]
  },
  {
   "cell_type": "code",
   "execution_count": 10,
   "metadata": {},
   "outputs": [
    {
     "data": {
      "text/plain": [
       "subject_race\n",
       "black                     0.021726\n",
       "hispanic                  0.016527\n",
       "white                     0.011836\n",
       "asian/pacific islander    0.010286\n",
       "other                     0.006513\n",
       "Name: arrest_made, dtype: float64"
      ]
     },
     "execution_count": 10,
     "metadata": {},
     "output_type": "execute_result"
    }
   ],
   "source": [
    "data.groupby('subject_race')['arrest_made'].mean().sort_values(ascending = False)"
   ]
  },
  {
   "cell_type": "markdown",
   "metadata": {},
   "source": [
    "According to the analysis, black has the highest proportion of being arrested given having been stopped by police (about 2.17%), followed by hispanic (about 1.65%), white (about 1.18%), asian/pacific islander (about 1.03%), and other (about 0.65%).  "
   ]
  },
  {
   "cell_type": "markdown",
   "metadata": {},
   "source": [
    "**4. Average Age of Subjects by Outcome**\n",
    "\n",
    "Calculate the average age of subjects grouped by the outcome of the stopping. "
   ]
  },
  {
   "cell_type": "code",
   "execution_count": 11,
   "metadata": {},
   "outputs": [
    {
     "data": {
      "text/plain": [
       "outcome\n",
       "arrest      34.150605\n",
       "citation    37.181326\n",
       "warning     37.104228\n",
       "Name: subject_age, dtype: float64"
      ]
     },
     "execution_count": 11,
     "metadata": {},
     "output_type": "execute_result"
    }
   ],
   "source": [
    "data.groupby('outcome')['subject_age'].mean()"
   ]
  },
  {
   "cell_type": "markdown",
   "metadata": {},
   "source": [
    "**5. Frequency of Search Conducted by Service Area**\n",
    "\n",
    "This analysis explores how often searches are conducted within each service area. "
   ]
  },
  {
   "cell_type": "code",
   "execution_count": 12,
   "metadata": {},
   "outputs": [
    {
     "data": {
      "text/plain": [
       "service_area\n",
       "Bulletin    0.653846\n",
       "County      0.404762\n",
       "830         0.111170\n",
       "440         0.107294\n",
       "510         0.095388\n",
       "820         0.090968\n",
       "430         0.089688\n",
       "810         0.054347\n",
       "720         0.042398\n",
       "620         0.041382\n",
       "530         0.040062\n",
       "840         0.035714\n",
       "610         0.034949\n",
       "120         0.034276\n",
       "110         0.031523\n",
       "520         0.030630\n",
       "320         0.027164\n",
       "Unknown     0.025356\n",
       "630         0.024876\n",
       "240         0.024422\n",
       "310         0.023198\n",
       "930         0.021978\n",
       "710         0.020765\n",
       "230         0.019649\n",
       "130         0.011111\n",
       "Name: search_conducted, dtype: float64"
      ]
     },
     "execution_count": 12,
     "metadata": {},
     "output_type": "execute_result"
    }
   ],
   "source": [
    "data.groupby('service_area')['search_conducted'].mean().sort_values(ascending = False)"
   ]
  },
  {
   "cell_type": "markdown",
   "metadata": {},
   "source": [
    "The previous analysis provides a sorted list showing the service areas with the highest to lowest proportion of stops involving a search. It could help identifying areas with more intensive police searching activities. "
   ]
  },
  {
   "cell_type": "markdown",
   "metadata": {},
   "source": [
    "## Data visualization\n",
    "In this section, you will create a few **visualizations** that show some of the insights you have gathered from this data.\n",
    "- Create at least 5 different visualizations, where each visualization shows different insights into the data.\n",
    "- Use at least 3 different visualization types (e.g. bar charts, line charts, stacked area charts, pie charts, etc)\n",
    "- Create a Markdown cell and a Code cell for each, where you explain and show the visualizations, respectively.\n",
    "- Create as many additional cells as you need to prepare the data for the visualizations."
   ]
  },
  {
   "cell_type": "markdown",
   "metadata": {},
   "source": [
    "**1. Bar Chart of Stops by Race**\n",
    "\n",
    "This bar chart will display the count of stops for each racial group. "
   ]
  },
  {
   "cell_type": "code",
   "execution_count": 13,
   "metadata": {},
   "outputs": [
    {
     "data": {
      "image/png": "[encoded data removed]",
      "text/plain": [
       "<Figure size 1000x600 with 1 Axes>"
      ]
     },
     "metadata": {},
     "output_type": "display_data"
    }
   ],
   "source": [
    "import seaborn as sns\n",
    "\n",
    "plt.figure(figsize = (10, 6))\n",
    "race_counts = data['subject_race'].value_counts()\n",
    "sns.barplot(x = race_counts.index, y = race_counts.values)\n",
    "plt.title('Count of Stops by Race')\n",
    "plt.xlabel('Race')\n",
    "plt.ylabel('Number of Stops')\n",
    "plt.show()"
   ]
  },
  {
   "cell_type": "markdown",
   "metadata": {},
   "source": [
    "**2. Pie Chart of Outcomes**\n",
    "\n",
    "The pie chart shows the distribution of different outcomes of the stops. "
   ]
  },
  {
   "cell_type": "code",
   "execution_count": 14,
   "metadata": {},
   "outputs": [
    {
     "data": {
      "image/png": "[encoded data removed]",
      "text/plain": [
       "<Figure size 800x800 with 1 Axes>"
      ]
     },
     "metadata": {},
     "output_type": "display_data"
    }
   ],
   "source": [
    "outcome_counts = data['outcome'].value_counts()\n",
    "\n",
    "plt.figure(figsize = (8, 8))\n",
    "plt.pie(outcome_counts, labels = outcome_counts.index, autopct = '%1.1f%%', startangle = 140)\n",
    "plt.title('Proportions of Outcomes')\n",
    "plt.show()"
   ]
  },
  {
   "cell_type": "markdown",
   "metadata": {},
   "source": [
    "**3. Histogram of Subject Ages**\n",
    "\n",
    "This histogram provides a distribution of the ages of subjects stopped. "
   ]
  },
  {
   "cell_type": "code",
   "execution_count": 15,
   "metadata": {},
   "outputs": [
    {
     "data": {
      "image/png": "[encoded data removed]",
      "text/plain": [
       "<Figure size 1000x600 with 1 Axes>"
      ]
     },
     "metadata": {},
     "output_type": "display_data"
    }
   ],
   "source": [
    "plt.figure(figsize = (10, 6))\n",
    "sns.histplot(data['subject_age'], bins = 30)\n",
    "plt.title('Distribution of Subject Ages')\n",
    "plt.xlabel('Age')\n",
    "plt.ylabel('Frequency')\n",
    "plt.show()"
   ]
  },
  {
   "cell_type": "markdown",
   "metadata": {},
   "source": [
    "**4. Box Plot of Subject Age by Race**\n",
    "\n",
    "The box plot provides a comparison of age distributions across different races, showing median, quartiles, and outliers. "
   ]
  },
  {
   "cell_type": "code",
   "execution_count": 19,
   "metadata": {},
   "outputs": [
    {
     "data": {
      "image/png": "[encoded data removed]",
      "text/plain": [
       "<Figure size 1000x800 with 1 Axes>"
      ]
     },
     "metadata": {},
     "output_type": "display_data"
    }
   ],
   "source": [
    "plt.figure(figsize = (10, 8))\n",
    "sns.boxplot(data = data, x = 'subject_race', y = 'subject_age')\n",
    "plt.title('Subject Age Distribution by Race')\n",
    "plt.ylabel('Age')\n",
    "plt.xlabel('Race')\n",
    "plt.show()"
   ]
  },
  {
   "cell_type": "markdown",
   "metadata": {},
   "source": [
    "**5. Stacked Area Chart of Outcomes by Month**\n",
    "\n",
    "This visualization shows how the outcomes of stops (citation, warning, arrest) have changed over time by month. "
   ]
  },
  {
   "cell_type": "code",
   "execution_count": 20,
   "metadata": {},
   "outputs": [
    {
     "data": {
      "text/plain": [
       "<Figure size 1000x600 with 0 Axes>"
      ]
     },
     "metadata": {},
     "output_type": "display_data"
    },
    {
     "data": {
      "image/png": "[encoded data removed]",
      "text/plain": [
       "<Figure size 640x480 with 1 Axes>"
      ]
     },
     "metadata": {},
     "output_type": "display_data"
    }
   ],
   "source": [
    "data['date'] = pd.to_datetime(data['date'])\n",
    "data.set_index('date', inplace = True)\n",
    "monthly_outcome_data = data.groupby([pd.Grouper(freq = 'M'), 'outcome']).size().unstack(fill_value = 0)\n",
    "monthly_proportions = monthly_outcome_data.divide(monthly_outcome_data.sum(axis = 1), axis = 0)\n",
    "\n",
    "plt.figure(figsize = (10, 6))\n",
    "monthly_proportions.plot(kind = 'area', stacked = True)\n",
    "plt.title('Proportion of Stop Outcomes Over Time by Month')\n",
    "plt.xlabel('Month')\n",
    "plt.ylabel('Proportion')\n",
    "plt.legend(title = 'Outcome')\n",
    "plt.show()"
   ]
  },
  {
   "cell_type": "code",
   "execution_count": null,
   "metadata": {},
   "outputs": [],
   "source": []
  }
 ],
 "metadata": {
  "kernelspec": {
   "display_name": "Python 3 (ipykernel)",
   "language": "python",
   "name": "python3"
  },
  "language_info": {
   "codemirror_mode": {
    "name": "ipython",
    "version": 3
   },
   "file_extension": ".py",
   "mimetype": "text/x-python",
   "name": "python",
   "nbconvert_exporter": "python",
   "pygments_lexer": "ipython3",
   "version": "3.10.9"
  }
 },
 "nbformat": 4,
 "nbformat_minor": 4
}
